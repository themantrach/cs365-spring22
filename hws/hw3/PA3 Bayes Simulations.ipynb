{
 "cells": [
  {
   "cell_type": "markdown",
   "metadata": {},
   "source": [
    "# PA3 Bayes Simulation\n",
    "\n",
    "Through this coding exercise you will hopefully gain some appreciation for what Bayes theorem models in real world examples. \n",
    "To this end, we will be using python to simulate real life scenarios and compare the probabilities from the simulations\n",
    "to those from analytical Bayes Theorem\n",
    "\n",
    "#### What to turn in:\n",
    "1. Your copy of this .ipynb file that includes your answers and simulation code\n",
    "\n",
    "#### Where to turn in:\n",
    "1. Grade scope portal\n",
    "\n",
    "#### When to turn in:\n",
    "1. 5 PM EST 2/18"
   ]
  },
  {
   "cell_type": "code",
   "execution_count": 1,
   "metadata": {},
   "outputs": [],
   "source": [
    "# free free to import other packages \n",
    "import numpy as np"
   ]
  },
  {
   "cell_type": "markdown",
   "metadata": {},
   "source": [
    "## P1: Disease and testing\n",
    "\n",
    "Let us say that a common bacteria infects about 5% of the population in a small city in the United States. A new test has been created to detect the infection. If the patient is infected, the test will give a positive result 90% of the time. On the other hand, the test will give a positive result 6% of the time if the person is not infected. What is the probability that the person is infected given a positive test?\n",
    "\n",
    "1. Compute your answer analytically.\n",
    "2. Compute your answer using simulation. You may assume there exist 10000 people. "
   ]
  },
  {
   "cell_type": "markdown",
   "metadata": {},
   "source": [
    "### Analytical Answer Cell (double click to edit)\n"
   ]
  },
  {
   "cell_type": "code",
   "execution_count": 2,
   "metadata": {},
   "outputs": [],
   "source": [
    "#Coding answer"
   ]
  },
  {
   "cell_type": "markdown",
   "metadata": {},
   "source": [
    "## P2: Trees\n",
    "\n",
    "A local forest contains a series of tree species: elm, maples, and other. Unfortunately, 30% of all trees exhibit some form of decay. Of the ones that do exhibit decay, 15% are elms, 80% are maples, and the rest are other. Of the trees that do *not* exhibit decay, 20% are elm, 10% are maple, and 70% are other. If we were to  select a tree uniformly at random:\n",
    "\n",
    "1. What is the probability the tree I selected is maple?  \n",
    "2. What is the probability that the tree I selected shows decay, given it is a maple tree? \n",
    "\n",
    "Answer 1.,2. both analytically, as well as by writing Python code. You may assume in your simulation, that the number of trees is 10000.\n"
   ]
  },
  {
   "cell_type": "markdown",
   "metadata": {},
   "source": [
    "### Analytic Answer (Double click to edit)"
   ]
  },
  {
   "cell_type": "code",
   "execution_count": 3,
   "metadata": {},
   "outputs": [],
   "source": [
    "#coding answer"
   ]
  },
  {
   "cell_type": "markdown",
   "metadata": {},
   "source": [
    "## Ham/Spam Email Algorithm Analysis\n",
    "\n",
    "Let’s say we created a new machine learning algorithm for the detection of spam email. It correctly identifies 80% of spam emails as spam. However, it falsely identifies 40% of ham emails as spam. There are three testing data sets to assess our algorithm on. The first test set has 25% of the emails as spam, the second test set has 50% of the emails as spam, and the third data set has 75% of the emails as spam. For each data set, compute the following probabilities both analytically and by simulation. Assume that the number of emails for each of the three tests sets is 10,000.\n",
    "\n",
    "* What is the probability that the email is spam given that my algorithm classifies it as spam? \n",
    "\n",
    "Note: There is no need to replicate your code. Write your code in the form of appropriately defined functions.\n"
   ]
  },
  {
   "cell_type": "markdown",
   "metadata": {},
   "source": [
    "### Analytic Answer (Double click to edit)"
   ]
  },
  {
   "cell_type": "code",
   "execution_count": 4,
   "metadata": {},
   "outputs": [],
   "source": [
    "#Coding Answer"
   ]
  }
 ],
 "metadata": {
  "kernelspec": {
   "display_name": "Python 3",
   "language": "python",
   "name": "python3"
  },
  "language_info": {
   "codemirror_mode": {
    "name": "ipython",
    "version": 3
   },
   "file_extension": ".py",
   "mimetype": "text/x-python",
   "name": "python",
   "nbconvert_exporter": "python",
   "pygments_lexer": "ipython3",
   "version": "3.9.0"
  }
 },
 "nbformat": 4,
 "nbformat_minor": 4
}
